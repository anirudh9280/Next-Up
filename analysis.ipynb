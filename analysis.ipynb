{
 "cells": [
  {
   "cell_type": "markdown",
   "id": "80f3437d",
   "metadata": {},
   "source": [
    "# This notebook will be where the modeling/predicting will be done"
   ]
  },
  {
   "cell_type": "markdown",
   "id": "ad4d4c48",
   "metadata": {},
   "source": []
  }
 ],
 "metadata": {
  "language_info": {
   "name": "python"
  }
 },
 "nbformat": 4,
 "nbformat_minor": 5
}
