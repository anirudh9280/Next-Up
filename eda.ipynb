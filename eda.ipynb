{
 "cells": [
  {
   "cell_type": "markdown",
   "id": "3fc45dcc",
   "metadata": {},
   "source": [
    "# This notebook is where the EDA will be performed\n"
   ]
  },
  {
   "cell_type": "markdown",
   "id": "9d4d31a5",
   "metadata": {},
   "source": []
  }
 ],
 "metadata": {
  "language_info": {
   "name": "python"
  }
 },
 "nbformat": 4,
 "nbformat_minor": 5
}
