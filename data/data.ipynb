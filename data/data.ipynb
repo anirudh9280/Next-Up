{
 "cells": [
  {
   "cell_type": "markdown",
   "id": "65c03345",
   "metadata": {},
   "source": [
    "# This notebook will be used for fetching all data for EDA/MODELING/PREDICTING in main notebook"
   ]
  },
  {
   "cell_type": "markdown",
   "id": "c5350444",
   "metadata": {},
   "source": []
  }
 ],
 "metadata": {
  "language_info": {
   "name": "python"
  }
 },
 "nbformat": 4,
 "nbformat_minor": 5
}
